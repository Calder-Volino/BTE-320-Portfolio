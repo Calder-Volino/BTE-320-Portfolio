{
  "nbformat": 4,
  "nbformat_minor": 0,
  "metadata": {
    "colab": {
      "provenance": [],
      "authorship_tag": "ABX9TyPVYIghp3aydwEiQjsRjHCi",
      "include_colab_link": true
    },
    "kernelspec": {
      "name": "python3",
      "display_name": "Python 3"
    },
    "language_info": {
      "name": "python"
    }
  },
  "cells": [
    {
      "cell_type": "markdown",
      "metadata": {
        "id": "view-in-github",
        "colab_type": "text"
      },
      "source": [
        "<a href=\"https://colab.research.google.com/github/Calder-Volino/BTE-320-Portfolio/blob/main/Calculator_Project.ipynb\" target=\"_parent\"><img src=\"https://colab.research.google.com/assets/colab-badge.svg\" alt=\"Open In Colab\"/></a>"
      ]
    },
    {
      "cell_type": "code",
      "execution_count": null,
      "metadata": {
        "id": "AWNeOH6yrrzM"
      },
      "outputs": [],
      "source": [
        "while True:\n",
        "  number_1 = float(input(\"Enter your first number: \"))\n",
        "  operator = input(\"Please enter the operator(+, -, *, /, //, %, **): \")\n",
        "  if operator == \"break\":\n",
        "    break\n",
        "  number_2 = float(input(\"Enter your second number: \"))\n",
        "  if operator == \"+\":\n",
        "    result = number_1 + number_2\n",
        "    print(result)\n",
        "  elif operator == \"-\":\n",
        "    result = number_1 - number_2\n",
        "    print(result)\n",
        "  elif operator == \"*\":\n",
        "    result = number_1 * number_2\n",
        "    print(result)\n",
        "  elif operator == \"/\":\n",
        "    result = number_1 / number_2\n",
        "    print(result)\n",
        "  elif operator == \"//\":\n",
        "    result = number_1 - number_2\n",
        "    print(result)\n",
        "  elif operator == \"%\":\n",
        "    result = number_1 - number_2\n",
        "    print(result)\n",
        "  elif operator == \"**\":\n",
        "    result = number_1 - number_2\n",
        "    print(result)"
      ]
    }
  ]
}