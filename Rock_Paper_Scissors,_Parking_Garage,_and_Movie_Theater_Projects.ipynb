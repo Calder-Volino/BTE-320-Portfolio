{
  "nbformat": 4,
  "nbformat_minor": 0,
  "metadata": {
    "colab": {
      "provenance": [],
      "authorship_tag": "ABX9TyNTazp5HBMw9PsEUP+RPpD7",
      "include_colab_link": true
    },
    "kernelspec": {
      "name": "python3",
      "display_name": "Python 3"
    },
    "language_info": {
      "name": "python"
    }
  },
  "cells": [
    {
      "cell_type": "markdown",
      "metadata": {
        "id": "view-in-github",
        "colab_type": "text"
      },
      "source": [
        "<a href=\"https://colab.research.google.com/github/Calder-Volino/BTE-320-Portfolio/blob/main/Rock_Paper_Scissors%2C_Parking_Garage%2C_and_Movie_Theater_Projects.ipynb\" target=\"_parent\"><img src=\"https://colab.research.google.com/assets/colab-badge.svg\" alt=\"Open In Colab\"/></a>"
      ]
    },
    {
      "cell_type": "code",
      "execution_count": null,
      "metadata": {
        "id": "26SyqDlXGSWR"
      },
      "outputs": [],
      "source": [
        "import random\n",
        "\n",
        "play_again = input('Do you want to play Rock, Paper, Scissors?: ')\n",
        "while play_again == \"y\":\n",
        "  pc_choice = random.choice (['rock', 'paper', 'scissors'])\n",
        "  user_choice = input('Pick rock, paper, scissors: ')\n",
        "\n",
        "  if user_choice == pc_choice:\n",
        "    print(\"It is a tie!\")\n",
        "\n",
        "  elif (user_choice == 'rock' and pc_choice == 'scissors') or (user_choice == 'paper' and pc_choice == 'rock') or (user_choice == 'scissors' and pc_choice == 'paper'):\n",
        "    print(\"User wins!\")\n",
        "\n",
        "  else:\n",
        "    print(\"PC wins!\")\n",
        "  play_again = input('Do you want to play again, yes or no: ')"
      ]
    },
    {
      "cell_type": "code",
      "source": [
        "for hour in range(1,9):\n",
        "  fee = hour*2.50 + 5\n",
        "  if fee < 10:\n",
        "    fee = 10.0\n",
        "  if fee > 20:\n",
        "    fee = 20.0\n",
        "  print(hour, fee)"
      ],
      "metadata": {
        "id": "WNo80dqWnHxK"
      },
      "execution_count": null,
      "outputs": []
    },
    {
      "cell_type": "code",
      "source": [
        "print(\"Ad$\", \"Profit\")\n",
        "for dollars in range(0,201,25):\n",
        "  additional = 2*round(dollars**0.5)\n",
        "  price = 200 + 10*(additional) - 200 - dollars\n",
        "  print(float(dollars), float(price))"
      ],
      "metadata": {
        "id": "KaT0swLdnL8c"
      },
      "execution_count": null,
      "outputs": []
    }
  ]
}