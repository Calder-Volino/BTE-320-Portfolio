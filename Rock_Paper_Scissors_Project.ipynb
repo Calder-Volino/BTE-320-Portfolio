{
  "nbformat": 4,
  "nbformat_minor": 0,
  "metadata": {
    "colab": {
      "provenance": [],
      "authorship_tag": "ABX9TyNF+1+Cx8/Gj9//+hrgDVuE",
      "include_colab_link": true
    },
    "kernelspec": {
      "name": "python3",
      "display_name": "Python 3"
    },
    "language_info": {
      "name": "python"
    }
  },
  "cells": [
    {
      "cell_type": "markdown",
      "metadata": {
        "id": "view-in-github",
        "colab_type": "text"
      },
      "source": [
        "<a href=\"https://colab.research.google.com/github/Calder-Volino/BTE-320-Portfolio/blob/main/Rock_Paper_Scissors_Project.ipynb\" target=\"_parent\"><img src=\"https://colab.research.google.com/assets/colab-badge.svg\" alt=\"Open In Colab\"/></a>"
      ]
    },
    {
      "cell_type": "code",
      "execution_count": null,
      "metadata": {
        "id": "SaDhA_4sMPPS"
      },
      "outputs": [],
      "source": [
        "import random\n",
        "\n",
        "play_again = input('Do you want to play Rock, Paper, Scissors?: ')\n",
        "while play_again == \"y\":\n",
        "  pc_choice = random.choice (['rock', 'paper', 'scissors'])\n",
        "  user_choice = input('Pick rock, paper, scissors: ')\n",
        "\n",
        "  if user_choice == pc_choice:\n",
        "    print(\"It is a tie!\")\n",
        "\n",
        "  elif (user_choice == 'rock' and pc_choice == 'scissors') or (user_choice == 'paper' and pc_choice == 'rock') or (user_choice == 'scissors' and pc_choice == 'paper'):\n",
        "    print(\"User wins!\")\n",
        "\n",
        "  else:\n",
        "    print(\"PC wins!\")\n",
        "  play_again = input('Do you want to play again, yes or no: ')"
      ]
    }
  ]
}